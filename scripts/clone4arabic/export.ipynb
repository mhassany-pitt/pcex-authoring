{
 "cells": [
  {
   "cell_type": "code",
   "execution_count": 1,
   "id": "9b702a7f",
   "metadata": {},
   "outputs": [
    {
     "name": "stdout",
     "output_type": "stream",
     "text": [
      "323\n"
     ]
    }
   ],
   "source": [
    "import os\n",
    "import json\n",
    "import requests\n",
    "\n",
    "hub = []\n",
    "for filename in os.listdir(\"hub\"):\n",
    "    if filename.endswith(\".json\"):\n",
    "        pcex_content = json.loads(open(f\"hub/{filename}\").read())[0]\n",
    "        for goal in pcex_content[\"activityGoals\"]:\n",
    "            goal[\"source_code\"] = \"\\n\".join(\n",
    "                [line[\"content\"] for line in goal[\"lineList\"]]\n",
    "            )\n",
    "        # print(json.dumps(pcex_content, indent=4))\n",
    "        hub.append(pcex_content)\n",
    "\n",
    "# open(\"hub-all.json\", \"w\").write(json.dumps(hub, indent=2))\n",
    "print(len(hub))"
   ]
  }
 ],
 "metadata": {
  "kernelspec": {
   "display_name": ".venv (3.13.5)",
   "language": "python",
   "name": "python3"
  },
  "language_info": {
   "codemirror_mode": {
    "name": "ipython",
    "version": 3
   },
   "file_extension": ".py",
   "mimetype": "text/x-python",
   "name": "python",
   "nbconvert_exporter": "python",
   "pygments_lexer": "ipython3",
   "version": "3.13.5"
  }
 },
 "nbformat": 4,
 "nbformat_minor": 5
}
